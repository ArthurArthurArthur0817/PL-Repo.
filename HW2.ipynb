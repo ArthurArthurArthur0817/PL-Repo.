{
  "nbformat": 4,
  "nbformat_minor": 0,
  "metadata": {
    "colab": {
      "provenance": []
    },
    "kernelspec": {
      "name": "python3",
      "display_name": "Python 3"
    },
    "language_info": {
      "name": "python"
    }
  },
  "cells": [
    {
      "cell_type": "code",
      "execution_count": null,
      "metadata": {
        "colab": {
          "base_uri": "https://localhost:8080/"
        },
        "id": "D4zHFBQDh_wk",
        "outputId": "90e5a926-3f84-4a90-fcd5-1fbad275e624"
      },
      "outputs": [
        {
          "output_type": "stream",
          "name": "stdout",
          "text": [
            "程式工程師的薪水資訊:\n",
            "{'AR/VR Engineer': 158292, 'Security Engineer': 165505, 'Machine Learning Engineer': 158307, 'Data Engineer': 155990, 'NLP.Engineer': 160227, 'Mobile Engineer': 160227, 'Blockchain Engineer': 156527, 'Backend Engineer': 157295, 'Database Engineer': 157148, 'Search Engineeer': 160392}\n",
            "\n",
            "熱門的程式語言資訊:\n",
            "['Python', 'JavaScript', 'Java', 'TypeScript', 'C#', 'Go', 'HTML', 'C++', 'Ruby', 'C']\n",
            "\n",
            "最受需求的技能資訊:\n",
            "['Go', 'Ruby on Rails', 'Scala', 'Ruby', 'React Native', 'Kotlin', 'Typescript', 'Kafka', 'React', 'Node.Js']\n",
            "\n",
            "程式工程師最常使用的語言資訊:\n",
            "{'Security Engineer': ['Web'], 'Search Engineeer': ['Python', 'R', 'SQL'], 'NLP.Engineer': ['Python'], 'Mobile Engineer': ['Kotlin', 'Java'], 'Machine Learning Engineer': ['Python'], 'AR/VR Engineer': ['Unity'], 'Backend Engineer': ['Node.Js', 'JavaScript'], 'Database Engineer': ['Linux', 'Shell'], 'Blockchain Engineer': ['Solidity', 'JavaScript'], 'Data Engineer': ['Python', 'Java']}\n"
          ]
        }
      ],
      "source": [
        "import json\n",
        "\n",
        "# 讀取JSON檔案\n",
        "with open('engineer_data.json', 'r') as f:\n",
        "    data = json.load(f)\n",
        "\n",
        "# 輸出所有資料\n",
        "print(\"程式工程師的薪水資訊:\")\n",
        "print(data[\"salary_info\"])\n",
        "print(\"\\n熱門的程式語言資訊:\")\n",
        "print(data[\"Top10_popular_languages\"])\n",
        "print(\"\\n最受需求的技能資訊:\")\n",
        "print(data[\"most_demand_skill\"])\n",
        "print(\"\\n程式工程師最常使用的語言資訊:\")\n",
        "print(data[\"engineer_using_languange\"])\n",
        "\n"
      ]
    },
    {
      "cell_type": "code",
      "source": [
        "# 將 salary_info 字典按照值排序\n",
        "sorted_salary_info = sorted(data[\"salary_info\"].items(), key=lambda x: x[1], reverse=True)\n",
        "\n",
        "# 輸出排序後的薪水資訊\n",
        "print(\"按薪水排序後的程式工程師資訊:\")\n",
        "for engineer, salary in sorted_salary_info:\n",
        "    print(f\"{engineer}: {salary}\")\n",
        "\n",
        "\n"
      ],
      "metadata": {
        "colab": {
          "base_uri": "https://localhost:8080/"
        },
        "id": "HjUqlpQbiLpF",
        "outputId": "75856d20-f3f4-4683-9e09-ff544ca8f784"
      },
      "execution_count": null,
      "outputs": [
        {
          "output_type": "stream",
          "name": "stdout",
          "text": [
            "按薪水排序後的程式工程師資訊:\n",
            "Security Engineer: 165505\n",
            "Search Engineeer: 160392\n",
            "NLP.Engineer: 160227\n",
            "Mobile Engineer: 160227\n",
            "Machine Learning Engineer: 158307\n",
            "AR/VR Engineer: 158292\n",
            "Backend Engineer: 157295\n",
            "Database Engineer: 157148\n",
            "Blockchain Engineer: 156527\n",
            "Data Engineer: 155990\n"
          ]
        }
      ]
    },
    {
      "cell_type": "code",
      "source": [
        "# 取得Top10_popular_languages與engineer_using_languange的交集\n",
        "intersection_languages = set(data[\"Top10_popular_languages\"]).intersection(set(language for languages in data[\"engineer_using_languange\"].values() for language in languages))\n",
        "\n",
        "# 輸出交集\n",
        "print(\"Top10_popular_languages 與 engineer_using_languange 的交集:\")\n",
        "print(intersection_languages)"
      ],
      "metadata": {
        "colab": {
          "base_uri": "https://localhost:8080/"
        },
        "id": "sNTSwdXciPx7",
        "outputId": "d1d6b2cb-64f3-47fc-af22-a21aeb5816a5"
      },
      "execution_count": null,
      "outputs": [
        {
          "output_type": "stream",
          "name": "stdout",
          "text": [
            "Top10_popular_languages 與 engineer_using_languange 的交集:\n",
            "{'Python', 'Java', 'JavaScript'}\n"
          ]
        }
      ]
    },
    {
      "cell_type": "code",
      "source": [
        "# 接收使用者輸入\n",
        "engineer_name = input(\"請輸入程式工程師名稱: \")\n",
        "\n",
        "# 檢查輸入的程式工程師名稱是否存在於資料中\n",
        "if engineer_name in data[\"salary_info\"]:\n",
        "    # 輸出該程式工程師的薪水資訊\n",
        "    print(f\"{engineer_name} 的薪水為: {data['salary_info'][engineer_name]}\")\n",
        "\n",
        "    # 輸出該程式工程師的使用語言資訊\n",
        "    if engineer_name in data[\"engineer_using_languange\"]:\n",
        "        print(f\"{engineer_name} 最常使用的語言為: {', '.join(data['engineer_using_languange'][engineer_name])}\")\n",
        "    else:\n",
        "        print(f\"{engineer_name} 的使用語言資訊暫時不可用。\")\n",
        "else:\n",
        "    print(f\"找不到名為 {engineer_name} 的程式工程師。\")"
      ],
      "metadata": {
        "id": "CTTbRQENiYs6"
      },
      "execution_count": null,
      "outputs": []
    }
  ]
}